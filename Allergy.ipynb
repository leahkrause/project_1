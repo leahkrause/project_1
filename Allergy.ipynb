{
 "cells": [
  {
   "cell_type": "code",
   "execution_count": 4,
   "id": "c576c490",
   "metadata": {},
   "outputs": [],
   "source": [
    "import pandas as pd\n",
    "import numpy as np\n",
    "import matplotlib.pyplot as plt"
   ]
  },
  {
   "cell_type": "code",
   "execution_count": 5,
   "id": "25c60d10",
   "metadata": {},
   "outputs": [],
   "source": [
    "allergy_df=pd.read_csv('data/food-allergy-analysis-Zenodo.csv')"
   ]
  },
  {
   "cell_type": "code",
   "execution_count": null,
   "id": "69274641",
   "metadata": {},
   "outputs": [],
   "source": [
    "allergy_df.describe()"
   ]
  },
  {
   "cell_type": "code",
   "execution_count": null,
   "id": "098c961b",
   "metadata": {},
   "outputs": [],
   "source": [
    "allergy_df.describe().drop('count')['AGE_START_YEARS'].plot(marker='o')\n",
    "plt.ylabel('AGE_START_YEARS')"
   ]
  },
  {
   "cell_type": "code",
   "execution_count": 14,
   "id": "fe10541f",
   "metadata": {},
   "outputs": [
    {
     "data": {
      "text/plain": [
       "mean     3.942140\n",
       "std      4.646174\n",
       "min     -4.312115\n",
       "25%      0.021903\n",
       "50%      1.763176\n",
       "75%      7.208761\n",
       "max     17.984942\n",
       "Name: AGE_START_YEARS, dtype: float64"
      ]
     },
     "execution_count": 14,
     "metadata": {},
     "output_type": "execute_result"
    }
   ],
   "source": [
    "allergy_df.describe().drop('count')['AGE_START_YEARS']"
   ]
  },
  {
   "cell_type": "code",
   "execution_count": null,
   "id": "53519481",
   "metadata": {},
   "outputs": [],
   "source": [
    "df=allergy_df[allergy_df['AGE_START_YEARS']<0]\n",
    "df.head()"
   ]
  },
  {
   "cell_type": "code",
   "execution_count": null,
   "id": "274be8d5",
   "metadata": {},
   "outputs": [],
   "source": [
    "allergy_df.dtypes"
   ]
  },
  {
   "cell_type": "code",
   "execution_count": null,
   "id": "73182f7d",
   "metadata": {},
   "outputs": [],
   "source": [
    "allergy_df.columns\n"
   ]
  },
  {
   "cell_type": "code",
   "execution_count": null,
   "id": "a4dce79a",
   "metadata": {},
   "outputs": [],
   "source": [
    "pd.concat([allergy_df.groupby('GENDER_FACTOR').count(),\n",
    "          allergy_df.groupby('ETHNICITY_FACTOR').count(),\n",
    "          allergy_df.groupby('RACE_FACTOR').count()])['SUBJECT_ID'].plot(kind=\"bar\")"
   ]
  },
  {
   "cell_type": "code",
   "execution_count": null,
   "id": "8c202f17",
   "metadata": {},
   "outputs": [],
   "source": []
  },
  {
   "cell_type": "code",
   "execution_count": null,
   "id": "11ca5269",
   "metadata": {},
   "outputs": [],
   "source": [
    "(allergy_df.groupby(['GENDER_FACTOR','ETHNICITY_FACTOR']).count()['RACE_FACTOR']).plot(kind=\"bar\")"
   ]
  },
  {
   "cell_type": "code",
   "execution_count": null,
   "id": "9db7c8e0",
   "metadata": {},
   "outputs": [],
   "source": [
    "(allergy_df.groupby(['GENDER_FACTOR','RACE_FACTOR']).count()['ETHNICITY_FACTOR']).plot(kind=\"bar\",color=['blue','blue','blue','blue','blue',\n",
    "                                                                                                         'red','red','red','red','red','red'])"
   ]
  },
  {
   "cell_type": "code",
   "execution_count": null,
   "id": "6703a26c",
   "metadata": {},
   "outputs": [],
   "source": [
    "shellfish_df=allergy_df[['SUBJECT_ID', 'BIRTH_YEAR', 'GENDER_FACTOR', 'RACE_FACTOR',\n",
    "       'ETHNICITY_FACTOR', 'PAYER_FACTOR', 'ATOPIC_MARCH_COHORT',\n",
    "       'AGE_START_YEARS', 'AGE_END_YEARS', 'SHELLFISH_ALG_START',\n",
    "       'SHELLFISH_ALG_END']].copy()\n",
    "shellfish_df.count()"
   ]
  },
  {
   "cell_type": "code",
   "execution_count": null,
   "id": "a6d22678",
   "metadata": {},
   "outputs": [],
   "source": [
    "def clean_DataFrame(allergen):\n",
    "    allergen_start_column=allergen.upper()+'_ALG_START'\n",
    "    allergen_end_column=allergen.upper()+'_ALG_END'\n",
    "    \n",
    "    allergen_df=allergy_df[['SUBJECT_ID', 'BIRTH_YEAR', 'GENDER_FACTOR', 'RACE_FACTOR',\n",
    "       'ETHNICITY_FACTOR', 'PAYER_FACTOR', 'ATOPIC_MARCH_COHORT',\n",
    "       'AGE_START_YEARS', 'AGE_END_YEARS', allergen_start_column,\n",
    "       allergen_end_column]].copy()\n",
    "\n",
    "    allergen_df_clean=allergen_df[(allergen_df[allergen_start_column].isna()==False)]\n",
    "    allergen_df_clean.reset_index(inplace=True,drop=True)\n",
    "    value= allergen_df_clean[allergen_df_clean[allergen_end_column].isna()][allergen_start_column]\n",
    "\n",
    "    #for index in value.index:\n",
    "        #allergen_df_clean.iloc[index,10]=value[index]\n",
    "    return allergen_df_clean\n"
   ]
  },
  {
   "cell_type": "code",
   "execution_count": null,
   "id": "a93be408",
   "metadata": {},
   "outputs": [],
   "source": [
    "shellfish_df_clean=clean_DataFrame('shellfish')\n",
    "shellfish_df_clean.head()"
   ]
  },
  {
   "cell_type": "code",
   "execution_count": null,
   "id": "9cdf612b",
   "metadata": {},
   "outputs": [],
   "source": [
    "fish_df_clean=clean_DataFrame('fish')\n",
    "fish_df_clean.count()"
   ]
  },
  {
   "cell_type": "code",
   "execution_count": null,
   "id": "3b983c1d",
   "metadata": {},
   "outputs": [],
   "source": [
    "df=shellfish_df_clean.groupby('GENDER_FACTOR')\n",
    "shellfish_df_clean.plot(kind=\"scatter\", x=\"AGE_START_YEARS\", y=\"SHELLFISH_ALG_START\", grid=True)"
   ]
  },
  {
   "cell_type": "code",
   "execution_count": null,
   "id": "975a83e5",
   "metadata": {},
   "outputs": [],
   "source": [
    "shellfish_df_clean[shellfish_df_clean['AGE_START_YEARS']<1][\"SHELLFISH_ALG_START\"].count()"
   ]
  },
  {
   "cell_type": "code",
   "execution_count": null,
   "id": "1e690e78",
   "metadata": {},
   "outputs": [],
   "source": [
    "shellfish_df_clean[shellfish_df_clean['BIRTH_YEAR']<2000].count(),shellfish_df_clean[shellfish_df_clean['BIRTH_YEAR']>=2000].count()"
   ]
  },
  {
   "cell_type": "code",
   "execution_count": null,
   "id": "8dcdd631",
   "metadata": {},
   "outputs": [],
   "source": [
    "shellfish_df_clean['AGE_START_YEARS'].describe()"
   ]
  },
  {
   "cell_type": "code",
   "execution_count": null,
   "id": "caa9cd0e",
   "metadata": {},
   "outputs": [],
   "source": [
    "#shellfish_df_clean=shellfish_df[(shellfish_df['SHELLFISH_ALG_START'].isna()==False)]\n",
    "#shellfish_df_clean.reset_index(inplace=True,drop=True)\n"
   ]
  },
  {
   "cell_type": "code",
   "execution_count": null,
   "id": "98b87c0c",
   "metadata": {},
   "outputs": [],
   "source": [
    "#value= shellfish_df_clean[shellfish_df_clean['SHELLFISH_ALG_END'].isna()]['SHELLFISH_ALG_START']\n",
    "\n",
    "#for index in value.index:\n",
    " #   shellfish_df_clean.iloc[index,10]=value[index]\n"
   ]
  },
  {
   "cell_type": "code",
   "execution_count": null,
   "id": "3fbf036c",
   "metadata": {},
   "outputs": [],
   "source": [
    "shellfish_df_clean['GENDER_FACTOR'].unique()"
   ]
  },
  {
   "cell_type": "code",
   "execution_count": 6,
   "id": "aeaa06bf",
   "metadata": {},
   "outputs": [
    {
     "data": {
      "text/plain": [
       "Index(['SUBJECT_ID', 'BIRTH_YEAR', 'GENDER_FACTOR', 'RACE_FACTOR',\n",
       "       'ETHNICITY_FACTOR', 'PAYER_FACTOR', 'ATOPIC_MARCH_COHORT',\n",
       "       'AGE_START_YEARS', 'AGE_END_YEARS', 'SHELLFISH_ALG_START',\n",
       "       'SHELLFISH_ALG_END', 'FISH_ALG_START', 'FISH_ALG_END', 'MILK_ALG_START',\n",
       "       'MILK_ALG_END', 'SOY_ALG_START', 'SOY_ALG_END', 'EGG_ALG_START',\n",
       "       'EGG_ALG_END', 'WHEAT_ALG_START', 'WHEAT_ALG_END', 'PEANUT_ALG_START',\n",
       "       'PEANUT_ALG_END', 'SESAME_ALG_START', 'SESAME_ALG_END',\n",
       "       'TREENUT_ALG_START', 'TREENUT_ALG_END', 'WALNUT_ALG_START',\n",
       "       'WALNUT_ALG_END', 'PECAN_ALG_START', 'PECAN_ALG_END',\n",
       "       'PISTACH_ALG_START', 'PISTACH_ALG_END', 'ALMOND_ALG_START',\n",
       "       'ALMOND_ALG_END', 'BRAZIL_ALG_START', 'BRAZIL_ALG_END',\n",
       "       'HAZELNUT_ALG_START', 'HAZELNUT_ALG_END', 'CASHEW_ALG_START',\n",
       "       'CASHEW_ALG_END', 'ATOPIC_DERM_START', 'ATOPIC_DERM_END',\n",
       "       'ALLERGIC_RHINITIS_START', 'ALLERGIC_RHINITIS_END', 'ASTHMA_START',\n",
       "       'ASTHMA_END', 'FIRST_ASTHMARX', 'LAST_ASTHMARX', 'NUM_ASTHMARX'],\n",
       "      dtype='object')"
      ]
     },
     "execution_count": 6,
     "metadata": {},
     "output_type": "execute_result"
    }
   ],
   "source": [
    "allergy_df.columns"
   ]
  },
  {
   "cell_type": "code",
   "execution_count": 7,
   "id": "3f790c35",
   "metadata": {},
   "outputs": [],
   "source": [
    "allergy_wheat = allergy_df[['SUBJECT_ID', 'BIRTH_YEAR', 'GENDER_FACTOR', 'RACE_FACTOR',\n",
    "       'ETHNICITY_FACTOR', 'AGE_START_YEARS', 'AGE_END_YEARS', 'WHEAT_ALG_START', 'WHEAT_ALG_END','ATOPIC_DERM_START', 'ATOPIC_DERM_END',\n",
    "       'ALLERGIC_RHINITIS_START', 'ALLERGIC_RHINITIS_END', 'ASTHMA_START',\n",
    "       'ASTHMA_END', 'FIRST_ASTHMARX', 'LAST_ASTHMARX']]"
   ]
  },
  {
   "cell_type": "code",
   "execution_count": 10,
   "id": "ec1f38a3",
   "metadata": {},
   "outputs": [],
   "source": [
    "allergy_wheat_infant = allergy_wheat.loc[(allergy_wheat['AGE_START_YEARS'] >= 0) & (allergy_wheat['AGE_START_YEARS'] < 1)]\n",
    "allergy_wheat_toddler = allergy_wheat.loc[(allergy_wheat['AGE_START_YEARS'] >= 1) & (allergy_wheat['AGE_START_YEARS'] < 5)]\n",
    "allergy_wheat_schoolage = allergy_wheat.loc[(allergy_wheat['AGE_START_YEARS'] >= 5) & (allergy_wheat['AGE_START_YEARS'] < 12)]\n",
    "allergy_wheat_teen = allergy_wheat.loc[allergy_wheat['AGE_START_YEARS'] >= 12]"
   ]
  },
  {
   "cell_type": "code",
   "execution_count": 13,
   "id": "cc8bd74c",
   "metadata": {},
   "outputs": [
    {
     "data": {
      "text/plain": [
       "<AxesSubplot:xlabel='AGE_START_YEARS', ylabel='WHEAT_ALG_START'>"
      ]
     },
     "execution_count": 13,
     "metadata": {},
     "output_type": "execute_result"
    },
    {
     "data": {
      "image/png": "[encoded data removed]",
      "text/plain": [
       "<Figure size 640x480 with 1 Axes>"
      ]
     },
     "metadata": {},
     "output_type": "display_data"
    }
   ],
   "source": [
    "allergy_wheat_infant.plot(kind=\"scatter\", x='AGE_START_YEARS', y='WHEAT_ALG_START')"
   ]
  },
  {
   "cell_type": "code",
   "execution_count": null,
   "id": "88356494",
   "metadata": {},
   "outputs": [],
   "source": []
  }
 ],
 "metadata": {
  "kernelspec": {
   "display_name": "base",
   "language": "python",
   "name": "python3"
  },
  "language_info": {
   "codemirror_mode": {
    "name": "ipython",
    "version": 3
   },
   "file_extension": ".py",
   "mimetype": "text/x-python",
   "name": "python",
   "nbconvert_exporter": "python",
   "pygments_lexer": "ipython3",
   "version": "3.9.13"
  },
  "vscode": {
   "interpreter": {
    "hash": "164751151c6e335a7a92f4421067e43853240df318465425aa3b2578bd5f41e4"
   }
  }
 },
 "nbformat": 4,
 "nbformat_minor": 5
}
