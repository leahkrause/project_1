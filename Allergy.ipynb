{
 "cells": [
  {
   "cell_type": "code",
   "execution_count": 108,
   "id": "c576c490",
   "metadata": {},
   "outputs": [],
   "source": [
    "import pandas as pd\n",
    "import numpy as np\n",
    "import matplotlib.pyplot as plt"
   ]
  },
  {
   "cell_type": "code",
   "execution_count": 194,
   "id": "25c60d10",
   "metadata": {},
   "outputs": [],
   "source": [
    "allergy_df=pd.read_csv('data300k.csv')"
   ]
  },
  {
   "cell_type": "code",
   "execution_count": 195,
   "id": "69274641",
   "metadata": {},
   "outputs": [
    {
     "data": {
      "text/html": [
       "<div>\n",
       "<style scoped>\n",
       "    .dataframe tbody tr th:only-of-type {\n",
       "        vertical-align: middle;\n",
       "    }\n",
       "\n",
       "    .dataframe tbody tr th {\n",
       "        vertical-align: top;\n",
       "    }\n",
       "\n",
       "    .dataframe thead th {\n",
       "        text-align: right;\n",
       "    }\n",
       "</style>\n",
       "<table border=\"1\" class=\"dataframe\">\n",
       "  <thead>\n",
       "    <tr style=\"text-align: right;\">\n",
       "      <th></th>\n",
       "      <th>SUBJECT_ID</th>\n",
       "      <th>BIRTH_YEAR</th>\n",
       "      <th>AGE_START_YEARS</th>\n",
       "      <th>AGE_END_YEARS</th>\n",
       "      <th>SHELLFISH_ALG_START</th>\n",
       "      <th>SHELLFISH_ALG_END</th>\n",
       "      <th>FISH_ALG_START</th>\n",
       "      <th>FISH_ALG_END</th>\n",
       "      <th>MILK_ALG_START</th>\n",
       "      <th>MILK_ALG_END</th>\n",
       "      <th>...</th>\n",
       "      <th>CASHEW_ALG_END</th>\n",
       "      <th>ATOPIC_DERM_START</th>\n",
       "      <th>ATOPIC_DERM_END</th>\n",
       "      <th>ALLERGIC_RHINITIS_START</th>\n",
       "      <th>ALLERGIC_RHINITIS_END</th>\n",
       "      <th>ASTHMA_START</th>\n",
       "      <th>ASTHMA_END</th>\n",
       "      <th>FIRST_ASTHMARX</th>\n",
       "      <th>LAST_ASTHMARX</th>\n",
       "      <th>NUM_ASTHMARX</th>\n",
       "    </tr>\n",
       "  </thead>\n",
       "  <tbody>\n",
       "    <tr>\n",
       "      <th>count</th>\n",
       "      <td>333200.000000</td>\n",
       "      <td>333200.000000</td>\n",
       "      <td>333200.000000</td>\n",
       "      <td>333200.000000</td>\n",
       "      <td>5246.000000</td>\n",
       "      <td>1051.000000</td>\n",
       "      <td>1796.000000</td>\n",
       "      <td>527.000000</td>\n",
       "      <td>7289.000000</td>\n",
       "      <td>4580.000000</td>\n",
       "      <td>...</td>\n",
       "      <td>121.000000</td>\n",
       "      <td>49515.000000</td>\n",
       "      <td>41732.000000</td>\n",
       "      <td>55567.000000</td>\n",
       "      <td>25326.000000</td>\n",
       "      <td>63874.000000</td>\n",
       "      <td>25465.000000</td>\n",
       "      <td>117550.000000</td>\n",
       "      <td>117550.000000</td>\n",
       "      <td>117550.000000</td>\n",
       "    </tr>\n",
       "    <tr>\n",
       "      <th>mean</th>\n",
       "      <td>166600.500000</td>\n",
       "      <td>2001.261191</td>\n",
       "      <td>3.942140</td>\n",
       "      <td>10.336654</td>\n",
       "      <td>8.724076</td>\n",
       "      <td>6.431159</td>\n",
       "      <td>6.628690</td>\n",
       "      <td>5.337775</td>\n",
       "      <td>3.287408</td>\n",
       "      <td>2.473547</td>\n",
       "      <td>...</td>\n",
       "      <td>5.293306</td>\n",
       "      <td>4.282436</td>\n",
       "      <td>5.665702</td>\n",
       "      <td>7.275146</td>\n",
       "      <td>12.930347</td>\n",
       "      <td>5.979887</td>\n",
       "      <td>12.377142</td>\n",
       "      <td>6.439342</td>\n",
       "      <td>8.943442</td>\n",
       "      <td>5.298477</td>\n",
       "    </tr>\n",
       "    <tr>\n",
       "      <th>std</th>\n",
       "      <td>96186.699184</td>\n",
       "      <td>6.603479</td>\n",
       "      <td>4.646174</td>\n",
       "      <td>5.623426</td>\n",
       "      <td>5.273093</td>\n",
       "      <td>4.475387</td>\n",
       "      <td>5.015358</td>\n",
       "      <td>4.190826</td>\n",
       "      <td>4.098283</td>\n",
       "      <td>3.108223</td>\n",
       "      <td>...</td>\n",
       "      <td>3.821768</td>\n",
       "      <td>4.683577</td>\n",
       "      <td>5.016386</td>\n",
       "      <td>4.190266</td>\n",
       "      <td>4.292382</td>\n",
       "      <td>4.390784</td>\n",
       "      <td>4.895197</td>\n",
       "      <td>4.863507</td>\n",
       "      <td>5.284163</td>\n",
       "      <td>6.486661</td>\n",
       "    </tr>\n",
       "    <tr>\n",
       "      <th>min</th>\n",
       "      <td>1.000000</td>\n",
       "      <td>1983.000000</td>\n",
       "      <td>-4.312115</td>\n",
       "      <td>1.002053</td>\n",
       "      <td>0.093087</td>\n",
       "      <td>0.169747</td>\n",
       "      <td>0.076660</td>\n",
       "      <td>0.076660</td>\n",
       "      <td>-60.112252</td>\n",
       "      <td>-4.008214</td>\n",
       "      <td>...</td>\n",
       "      <td>0.112252</td>\n",
       "      <td>-103.961670</td>\n",
       "      <td>0.013689</td>\n",
       "      <td>-95.238877</td>\n",
       "      <td>2.488706</td>\n",
       "      <td>1.002053</td>\n",
       "      <td>3.003422</td>\n",
       "      <td>1.002053</td>\n",
       "      <td>1.002053</td>\n",
       "      <td>1.000000</td>\n",
       "    </tr>\n",
       "    <tr>\n",
       "      <th>25%</th>\n",
       "      <td>83300.750000</td>\n",
       "      <td>1996.000000</td>\n",
       "      <td>0.021903</td>\n",
       "      <td>5.289528</td>\n",
       "      <td>3.975359</td>\n",
       "      <td>2.620123</td>\n",
       "      <td>2.235455</td>\n",
       "      <td>1.934292</td>\n",
       "      <td>0.747433</td>\n",
       "      <td>0.561259</td>\n",
       "      <td>...</td>\n",
       "      <td>2.335387</td>\n",
       "      <td>0.654346</td>\n",
       "      <td>1.448323</td>\n",
       "      <td>3.912389</td>\n",
       "      <td>9.591376</td>\n",
       "      <td>2.165640</td>\n",
       "      <td>8.139630</td>\n",
       "      <td>2.105407</td>\n",
       "      <td>4.298426</td>\n",
       "      <td>1.000000</td>\n",
       "    </tr>\n",
       "    <tr>\n",
       "      <th>50%</th>\n",
       "      <td>166600.500000</td>\n",
       "      <td>2002.000000</td>\n",
       "      <td>1.763176</td>\n",
       "      <td>10.193018</td>\n",
       "      <td>8.361396</td>\n",
       "      <td>5.305955</td>\n",
       "      <td>5.156742</td>\n",
       "      <td>3.939767</td>\n",
       "      <td>1.420945</td>\n",
       "      <td>1.200548</td>\n",
       "      <td>...</td>\n",
       "      <td>4.383299</td>\n",
       "      <td>2.255989</td>\n",
       "      <td>4.112252</td>\n",
       "      <td>6.721424</td>\n",
       "      <td>13.199179</td>\n",
       "      <td>4.807666</td>\n",
       "      <td>12.539357</td>\n",
       "      <td>5.023956</td>\n",
       "      <td>8.268309</td>\n",
       "      <td>3.000000</td>\n",
       "    </tr>\n",
       "    <tr>\n",
       "      <th>75%</th>\n",
       "      <td>249900.250000</td>\n",
       "      <td>2007.000000</td>\n",
       "      <td>7.208761</td>\n",
       "      <td>15.616701</td>\n",
       "      <td>13.078029</td>\n",
       "      <td>9.609856</td>\n",
       "      <td>10.251198</td>\n",
       "      <td>7.885010</td>\n",
       "      <td>4.295688</td>\n",
       "      <td>2.997947</td>\n",
       "      <td>...</td>\n",
       "      <td>7.227926</td>\n",
       "      <td>6.811773</td>\n",
       "      <td>8.926078</td>\n",
       "      <td>10.220397</td>\n",
       "      <td>16.579740</td>\n",
       "      <td>9.095140</td>\n",
       "      <td>16.843258</td>\n",
       "      <td>10.012320</td>\n",
       "      <td>13.341547</td>\n",
       "      <td>7.000000</td>\n",
       "    </tr>\n",
       "    <tr>\n",
       "      <th>max</th>\n",
       "      <td>333200.000000</td>\n",
       "      <td>2012.000000</td>\n",
       "      <td>17.984942</td>\n",
       "      <td>18.997947</td>\n",
       "      <td>24.298426</td>\n",
       "      <td>18.778919</td>\n",
       "      <td>22.499658</td>\n",
       "      <td>18.962355</td>\n",
       "      <td>25.431896</td>\n",
       "      <td>17.911020</td>\n",
       "      <td>...</td>\n",
       "      <td>17.264887</td>\n",
       "      <td>23.342916</td>\n",
       "      <td>24.626968</td>\n",
       "      <td>23.649555</td>\n",
       "      <td>28.616016</td>\n",
       "      <td>23.649555</td>\n",
       "      <td>28.522930</td>\n",
       "      <td>18.997947</td>\n",
       "      <td>18.997947</td>\n",
       "      <td>118.000000</td>\n",
       "    </tr>\n",
       "  </tbody>\n",
       "</table>\n",
       "<p>8 rows × 45 columns</p>\n",
       "</div>"
      ],
      "text/plain": [
       "          SUBJECT_ID     BIRTH_YEAR  AGE_START_YEARS  AGE_END_YEARS  \\\n",
       "count  333200.000000  333200.000000    333200.000000  333200.000000   \n",
       "mean   166600.500000    2001.261191         3.942140      10.336654   \n",
       "std     96186.699184       6.603479         4.646174       5.623426   \n",
       "min         1.000000    1983.000000        -4.312115       1.002053   \n",
       "25%     83300.750000    1996.000000         0.021903       5.289528   \n",
       "50%    166600.500000    2002.000000         1.763176      10.193018   \n",
       "75%    249900.250000    2007.000000         7.208761      15.616701   \n",
       "max    333200.000000    2012.000000        17.984942      18.997947   \n",
       "\n",
       "       SHELLFISH_ALG_START  SHELLFISH_ALG_END  FISH_ALG_START  FISH_ALG_END  \\\n",
       "count          5246.000000        1051.000000     1796.000000    527.000000   \n",
       "mean              8.724076           6.431159        6.628690      5.337775   \n",
       "std               5.273093           4.475387        5.015358      4.190826   \n",
       "min               0.093087           0.169747        0.076660      0.076660   \n",
       "25%               3.975359           2.620123        2.235455      1.934292   \n",
       "50%               8.361396           5.305955        5.156742      3.939767   \n",
       "75%              13.078029           9.609856       10.251198      7.885010   \n",
       "max              24.298426          18.778919       22.499658     18.962355   \n",
       "\n",
       "       MILK_ALG_START  MILK_ALG_END  ...  CASHEW_ALG_END  ATOPIC_DERM_START  \\\n",
       "count     7289.000000   4580.000000  ...      121.000000       49515.000000   \n",
       "mean         3.287408      2.473547  ...        5.293306           4.282436   \n",
       "std          4.098283      3.108223  ...        3.821768           4.683577   \n",
       "min        -60.112252     -4.008214  ...        0.112252        -103.961670   \n",
       "25%          0.747433      0.561259  ...        2.335387           0.654346   \n",
       "50%          1.420945      1.200548  ...        4.383299           2.255989   \n",
       "75%          4.295688      2.997947  ...        7.227926           6.811773   \n",
       "max         25.431896     17.911020  ...       17.264887          23.342916   \n",
       "\n",
       "       ATOPIC_DERM_END  ALLERGIC_RHINITIS_START  ALLERGIC_RHINITIS_END  \\\n",
       "count     41732.000000             55567.000000           25326.000000   \n",
       "mean          5.665702                 7.275146              12.930347   \n",
       "std           5.016386                 4.190266               4.292382   \n",
       "min           0.013689               -95.238877               2.488706   \n",
       "25%           1.448323                 3.912389               9.591376   \n",
       "50%           4.112252                 6.721424              13.199179   \n",
       "75%           8.926078                10.220397              16.579740   \n",
       "max          24.626968                23.649555              28.616016   \n",
       "\n",
       "       ASTHMA_START    ASTHMA_END  FIRST_ASTHMARX  LAST_ASTHMARX  \\\n",
       "count  63874.000000  25465.000000   117550.000000  117550.000000   \n",
       "mean       5.979887     12.377142        6.439342       8.943442   \n",
       "std        4.390784      4.895197        4.863507       5.284163   \n",
       "min        1.002053      3.003422        1.002053       1.002053   \n",
       "25%        2.165640      8.139630        2.105407       4.298426   \n",
       "50%        4.807666     12.539357        5.023956       8.268309   \n",
       "75%        9.095140     16.843258       10.012320      13.341547   \n",
       "max       23.649555     28.522930       18.997947      18.997947   \n",
       "\n",
       "        NUM_ASTHMARX  \n",
       "count  117550.000000  \n",
       "mean        5.298477  \n",
       "std         6.486661  \n",
       "min         1.000000  \n",
       "25%         1.000000  \n",
       "50%         3.000000  \n",
       "75%         7.000000  \n",
       "max       118.000000  \n",
       "\n",
       "[8 rows x 45 columns]"
      ]
     },
     "execution_count": 195,
     "metadata": {},
     "output_type": "execute_result"
    }
   ],
   "source": [
    "allergy_df.describe()"
   ]
  },
  {
   "cell_type": "code",
   "execution_count": 196,
   "id": "098c961b",
   "metadata": {},
   "outputs": [
    {
     "data": {
      "text/plain": [
       "Text(0, 0.5, 'AGE_START_YEARS')"
      ]
     },
     "execution_count": 196,
     "metadata": {},
     "output_type": "execute_result"
    },
    {
     "data": {
      "image/png": "[encoded data removed]",
      "text/plain": [
       "<Figure size 640x480 with 1 Axes>"
      ]
     },
     "metadata": {},
     "output_type": "display_data"
    }
   ],
   "source": [
    "allergy_df.describe().drop('count')['AGE_START_YEARS'].plot(marker='o')\n",
    "plt.ylabel('AGE_START_YEARS')"
   ]
  },
  {
   "cell_type": "code",
   "execution_count": 187,
   "id": "fe10541f",
   "metadata": {},
   "outputs": [
    {
     "data": {
      "text/plain": [
       "mean     4.266987\n",
       "std      4.510831\n",
       "min     -0.971937\n",
       "25%      0.024641\n",
       "50%      3.616701\n",
       "75%      7.209446\n",
       "max     17.850787\n",
       "Name: AGE_START_YEARS, dtype: float64"
      ]
     },
     "execution_count": 187,
     "metadata": {},
     "output_type": "execute_result"
    }
   ],
   "source": [
    "allergy_df.describe().drop('count')['AGE_START_YEARS']"
   ]
  },
  {
   "cell_type": "code",
   "execution_count": 197,
   "id": "53519481",
   "metadata": {},
   "outputs": [
    {
     "data": {
      "text/html": [
       "<div>\n",
       "<style scoped>\n",
       "    .dataframe tbody tr th:only-of-type {\n",
       "        vertical-align: middle;\n",
       "    }\n",
       "\n",
       "    .dataframe tbody tr th {\n",
       "        vertical-align: top;\n",
       "    }\n",
       "\n",
       "    .dataframe thead th {\n",
       "        text-align: right;\n",
       "    }\n",
       "</style>\n",
       "<table border=\"1\" class=\"dataframe\">\n",
       "  <thead>\n",
       "    <tr style=\"text-align: right;\">\n",
       "      <th></th>\n",
       "      <th>SUBJECT_ID</th>\n",
       "      <th>BIRTH_YEAR</th>\n",
       "      <th>GENDER_FACTOR</th>\n",
       "      <th>RACE_FACTOR</th>\n",
       "      <th>ETHNICITY_FACTOR</th>\n",
       "      <th>PAYER_FACTOR</th>\n",
       "      <th>ATOPIC_MARCH_COHORT</th>\n",
       "      <th>AGE_START_YEARS</th>\n",
       "      <th>AGE_END_YEARS</th>\n",
       "      <th>SHELLFISH_ALG_START</th>\n",
       "      <th>...</th>\n",
       "      <th>CASHEW_ALG_END</th>\n",
       "      <th>ATOPIC_DERM_START</th>\n",
       "      <th>ATOPIC_DERM_END</th>\n",
       "      <th>ALLERGIC_RHINITIS_START</th>\n",
       "      <th>ALLERGIC_RHINITIS_END</th>\n",
       "      <th>ASTHMA_START</th>\n",
       "      <th>ASTHMA_END</th>\n",
       "      <th>FIRST_ASTHMARX</th>\n",
       "      <th>LAST_ASTHMARX</th>\n",
       "      <th>NUM_ASTHMARX</th>\n",
       "    </tr>\n",
       "  </thead>\n",
       "  <tbody>\n",
       "    <tr>\n",
       "      <th>29886</th>\n",
       "      <td>29887</td>\n",
       "      <td>2008</td>\n",
       "      <td>S1 - Female</td>\n",
       "      <td>R1 - Black</td>\n",
       "      <td>E0 - Non-Hispanic</td>\n",
       "      <td>P1 - Medicaid</td>\n",
       "      <td>False</td>\n",
       "      <td>-0.971937</td>\n",
       "      <td>2.683094</td>\n",
       "      <td>NaN</td>\n",
       "      <td>...</td>\n",
       "      <td>NaN</td>\n",
       "      <td>NaN</td>\n",
       "      <td>NaN</td>\n",
       "      <td>NaN</td>\n",
       "      <td>NaN</td>\n",
       "      <td>NaN</td>\n",
       "      <td>NaN</td>\n",
       "      <td>NaN</td>\n",
       "      <td>NaN</td>\n",
       "      <td>NaN</td>\n",
       "    </tr>\n",
       "    <tr>\n",
       "      <th>74892</th>\n",
       "      <td>74893</td>\n",
       "      <td>2009</td>\n",
       "      <td>S1 - Female</td>\n",
       "      <td>R1 - Black</td>\n",
       "      <td>E0 - Non-Hispanic</td>\n",
       "      <td>P1 - Medicaid</td>\n",
       "      <td>False</td>\n",
       "      <td>-0.180698</td>\n",
       "      <td>3.865845</td>\n",
       "      <td>NaN</td>\n",
       "      <td>...</td>\n",
       "      <td>NaN</td>\n",
       "      <td>NaN</td>\n",
       "      <td>NaN</td>\n",
       "      <td>NaN</td>\n",
       "      <td>NaN</td>\n",
       "      <td>NaN</td>\n",
       "      <td>NaN</td>\n",
       "      <td>NaN</td>\n",
       "      <td>NaN</td>\n",
       "      <td>NaN</td>\n",
       "    </tr>\n",
       "    <tr>\n",
       "      <th>86069</th>\n",
       "      <td>86070</td>\n",
       "      <td>2010</td>\n",
       "      <td>S1 - Female</td>\n",
       "      <td>R2 - Asian or Pacific Islander</td>\n",
       "      <td>E0 - Non-Hispanic</td>\n",
       "      <td>P0 - Non-Medicaid</td>\n",
       "      <td>False</td>\n",
       "      <td>-0.128679</td>\n",
       "      <td>3.258042</td>\n",
       "      <td>NaN</td>\n",
       "      <td>...</td>\n",
       "      <td>NaN</td>\n",
       "      <td>NaN</td>\n",
       "      <td>NaN</td>\n",
       "      <td>NaN</td>\n",
       "      <td>NaN</td>\n",
       "      <td>NaN</td>\n",
       "      <td>NaN</td>\n",
       "      <td>2.464066</td>\n",
       "      <td>3.258042</td>\n",
       "      <td>2.0</td>\n",
       "    </tr>\n",
       "    <tr>\n",
       "      <th>90009</th>\n",
       "      <td>90010</td>\n",
       "      <td>2010</td>\n",
       "      <td>S0 - Male</td>\n",
       "      <td>R2 - Asian or Pacific Islander</td>\n",
       "      <td>E0 - Non-Hispanic</td>\n",
       "      <td>P0 - Non-Medicaid</td>\n",
       "      <td>False</td>\n",
       "      <td>-0.104038</td>\n",
       "      <td>3.255305</td>\n",
       "      <td>NaN</td>\n",
       "      <td>...</td>\n",
       "      <td>NaN</td>\n",
       "      <td>NaN</td>\n",
       "      <td>NaN</td>\n",
       "      <td>NaN</td>\n",
       "      <td>NaN</td>\n",
       "      <td>NaN</td>\n",
       "      <td>NaN</td>\n",
       "      <td>NaN</td>\n",
       "      <td>NaN</td>\n",
       "      <td>NaN</td>\n",
       "    </tr>\n",
       "    <tr>\n",
       "      <th>102876</th>\n",
       "      <td>102877</td>\n",
       "      <td>2011</td>\n",
       "      <td>S0 - Male</td>\n",
       "      <td>R0 - White</td>\n",
       "      <td>E0 - Non-Hispanic</td>\n",
       "      <td>P0 - Non-Medicaid</td>\n",
       "      <td>False</td>\n",
       "      <td>-0.027379</td>\n",
       "      <td>2.540726</td>\n",
       "      <td>NaN</td>\n",
       "      <td>...</td>\n",
       "      <td>NaN</td>\n",
       "      <td>NaN</td>\n",
       "      <td>NaN</td>\n",
       "      <td>NaN</td>\n",
       "      <td>NaN</td>\n",
       "      <td>1.002053</td>\n",
       "      <td>NaN</td>\n",
       "      <td>1.029432</td>\n",
       "      <td>2.787132</td>\n",
       "      <td>11.0</td>\n",
       "    </tr>\n",
       "  </tbody>\n",
       "</table>\n",
       "<p>5 rows × 50 columns</p>\n",
       "</div>"
      ],
      "text/plain": [
       "        SUBJECT_ID  BIRTH_YEAR GENDER_FACTOR                     RACE_FACTOR  \\\n",
       "29886        29887        2008   S1 - Female                      R1 - Black   \n",
       "74892        74893        2009   S1 - Female                      R1 - Black   \n",
       "86069        86070        2010   S1 - Female  R2 - Asian or Pacific Islander   \n",
       "90009        90010        2010     S0 - Male  R2 - Asian or Pacific Islander   \n",
       "102876      102877        2011     S0 - Male                      R0 - White   \n",
       "\n",
       "         ETHNICITY_FACTOR       PAYER_FACTOR  ATOPIC_MARCH_COHORT  \\\n",
       "29886   E0 - Non-Hispanic      P1 - Medicaid                False   \n",
       "74892   E0 - Non-Hispanic      P1 - Medicaid                False   \n",
       "86069   E0 - Non-Hispanic  P0 - Non-Medicaid                False   \n",
       "90009   E0 - Non-Hispanic  P0 - Non-Medicaid                False   \n",
       "102876  E0 - Non-Hispanic  P0 - Non-Medicaid                False   \n",
       "\n",
       "        AGE_START_YEARS  AGE_END_YEARS  SHELLFISH_ALG_START  ...  \\\n",
       "29886         -0.971937       2.683094                  NaN  ...   \n",
       "74892         -0.180698       3.865845                  NaN  ...   \n",
       "86069         -0.128679       3.258042                  NaN  ...   \n",
       "90009         -0.104038       3.255305                  NaN  ...   \n",
       "102876        -0.027379       2.540726                  NaN  ...   \n",
       "\n",
       "        CASHEW_ALG_END  ATOPIC_DERM_START  ATOPIC_DERM_END  \\\n",
       "29886              NaN                NaN              NaN   \n",
       "74892              NaN                NaN              NaN   \n",
       "86069              NaN                NaN              NaN   \n",
       "90009              NaN                NaN              NaN   \n",
       "102876             NaN                NaN              NaN   \n",
       "\n",
       "        ALLERGIC_RHINITIS_START  ALLERGIC_RHINITIS_END  ASTHMA_START  \\\n",
       "29886                       NaN                    NaN           NaN   \n",
       "74892                       NaN                    NaN           NaN   \n",
       "86069                       NaN                    NaN           NaN   \n",
       "90009                       NaN                    NaN           NaN   \n",
       "102876                      NaN                    NaN      1.002053   \n",
       "\n",
       "        ASTHMA_END  FIRST_ASTHMARX  LAST_ASTHMARX  NUM_ASTHMARX  \n",
       "29886          NaN             NaN            NaN           NaN  \n",
       "74892          NaN             NaN            NaN           NaN  \n",
       "86069          NaN        2.464066       3.258042           2.0  \n",
       "90009          NaN             NaN            NaN           NaN  \n",
       "102876         NaN        1.029432       2.787132          11.0  \n",
       "\n",
       "[5 rows x 50 columns]"
      ]
     },
     "execution_count": 197,
     "metadata": {},
     "output_type": "execute_result"
    }
   ],
   "source": [
    "df=allergy_df[allergy_df['AGE_START_YEARS']<0]\n",
    "df.head()"
   ]
  },
  {
   "cell_type": "code",
   "execution_count": 6,
   "id": "274be8d5",
   "metadata": {},
   "outputs": [
    {
     "data": {
      "text/plain": [
       "SUBJECT_ID                   int64\n",
       "BIRTH_YEAR                   int64\n",
       "GENDER_FACTOR               object\n",
       "RACE_FACTOR                 object\n",
       "ETHNICITY_FACTOR            object\n",
       "PAYER_FACTOR                object\n",
       "ATOPIC_MARCH_COHORT           bool\n",
       "AGE_START_YEARS            float64\n",
       "AGE_END_YEARS              float64\n",
       "SHELLFISH_ALG_START        float64\n",
       "SHELLFISH_ALG_END          float64\n",
       "FISH_ALG_START             float64\n",
       "FISH_ALG_END               float64\n",
       "MILK_ALG_START             float64\n",
       "MILK_ALG_END               float64\n",
       "SOY_ALG_START              float64\n",
       "SOY_ALG_END                float64\n",
       "EGG_ALG_START              float64\n",
       "EGG_ALG_END                float64\n",
       "WHEAT_ALG_START            float64\n",
       "WHEAT_ALG_END              float64\n",
       "PEANUT_ALG_START           float64\n",
       "PEANUT_ALG_END             float64\n",
       "SESAME_ALG_START           float64\n",
       "SESAME_ALG_END             float64\n",
       "TREENUT_ALG_START          float64\n",
       "TREENUT_ALG_END            float64\n",
       "WALNUT_ALG_START           float64\n",
       "WALNUT_ALG_END             float64\n",
       "PECAN_ALG_START            float64\n",
       "PECAN_ALG_END              float64\n",
       "PISTACH_ALG_START          float64\n",
       "PISTACH_ALG_END            float64\n",
       "ALMOND_ALG_START           float64\n",
       "ALMOND_ALG_END             float64\n",
       "BRAZIL_ALG_START           float64\n",
       "BRAZIL_ALG_END             float64\n",
       "HAZELNUT_ALG_START         float64\n",
       "HAZELNUT_ALG_END           float64\n",
       "CASHEW_ALG_START           float64\n",
       "CASHEW_ALG_END             float64\n",
       "ATOPIC_DERM_START          float64\n",
       "ATOPIC_DERM_END            float64\n",
       "ALLERGIC_RHINITIS_START    float64\n",
       "ALLERGIC_RHINITIS_END      float64\n",
       "ASTHMA_START               float64\n",
       "ASTHMA_END                 float64\n",
       "FIRST_ASTHMARX             float64\n",
       "LAST_ASTHMARX              float64\n",
       "NUM_ASTHMARX               float64\n",
       "dtype: object"
      ]
     },
     "execution_count": 6,
     "metadata": {},
     "output_type": "execute_result"
    }
   ],
   "source": [
    "allergy_df.dtypes"
   ]
  },
  {
   "cell_type": "code",
   "execution_count": 7,
   "id": "73182f7d",
   "metadata": {},
   "outputs": [
    {
     "data": {
      "text/plain": [
       "Index(['SUBJECT_ID', 'BIRTH_YEAR', 'GENDER_FACTOR', 'RACE_FACTOR',\n",
       "       'ETHNICITY_FACTOR', 'PAYER_FACTOR', 'ATOPIC_MARCH_COHORT',\n",
       "       'AGE_START_YEARS', 'AGE_END_YEARS', 'SHELLFISH_ALG_START',\n",
       "       'SHELLFISH_ALG_END', 'FISH_ALG_START', 'FISH_ALG_END', 'MILK_ALG_START',\n",
       "       'MILK_ALG_END', 'SOY_ALG_START', 'SOY_ALG_END', 'EGG_ALG_START',\n",
       "       'EGG_ALG_END', 'WHEAT_ALG_START', 'WHEAT_ALG_END', 'PEANUT_ALG_START',\n",
       "       'PEANUT_ALG_END', 'SESAME_ALG_START', 'SESAME_ALG_END',\n",
       "       'TREENUT_ALG_START', 'TREENUT_ALG_END', 'WALNUT_ALG_START',\n",
       "       'WALNUT_ALG_END', 'PECAN_ALG_START', 'PECAN_ALG_END',\n",
       "       'PISTACH_ALG_START', 'PISTACH_ALG_END', 'ALMOND_ALG_START',\n",
       "       'ALMOND_ALG_END', 'BRAZIL_ALG_START', 'BRAZIL_ALG_END',\n",
       "       'HAZELNUT_ALG_START', 'HAZELNUT_ALG_END', 'CASHEW_ALG_START',\n",
       "       'CASHEW_ALG_END', 'ATOPIC_DERM_START', 'ATOPIC_DERM_END',\n",
       "       'ALLERGIC_RHINITIS_START', 'ALLERGIC_RHINITIS_END', 'ASTHMA_START',\n",
       "       'ASTHMA_END', 'FIRST_ASTHMARX', 'LAST_ASTHMARX', 'NUM_ASTHMARX'],\n",
       "      dtype='object')"
      ]
     },
     "execution_count": 7,
     "metadata": {},
     "output_type": "execute_result"
    }
   ],
   "source": [
    "allergy_df.columns\n"
   ]
  },
  {
   "cell_type": "code",
   "execution_count": 180,
   "id": "a4dce79a",
   "metadata": {},
   "outputs": [
    {
     "data": {
      "text/plain": [
       "<AxesSubplot: >"
      ]
     },
     "execution_count": 180,
     "metadata": {},
     "output_type": "execute_result"
    },
    {
     "data": {
      "image/png": "[encoded data removed]",
      "text/plain": [
       "<Figure size 640x480 with 1 Axes>"
      ]
     },
     "metadata": {},
     "output_type": "display_data"
    }
   ],
   "source": [
    "pd.concat([allergy_df.groupby('GENDER_FACTOR').count(),\n",
    "          allergy_df.groupby('ETHNICITY_FACTOR').count(),\n",
    "          allergy_df.groupby('RACE_FACTOR').count()])['SUBJECT_ID'].plot(kind=\"bar\")"
   ]
  },
  {
   "cell_type": "code",
   "execution_count": null,
   "id": "8c202f17",
   "metadata": {},
   "outputs": [],
   "source": []
  },
  {
   "cell_type": "code",
   "execution_count": 183,
   "id": "11ca5269",
   "metadata": {},
   "outputs": [
    {
     "data": {
      "text/plain": [
       "<AxesSubplot: xlabel='GENDER_FACTOR,ETHNICITY_FACTOR'>"
      ]
     },
     "execution_count": 183,
     "metadata": {},
     "output_type": "execute_result"
    },
    {
     "data": {
      "image/png": "[encoded data removed]",
      "text/plain": [
       "<Figure size 640x480 with 1 Axes>"
      ]
     },
     "metadata": {},
     "output_type": "display_data"
    }
   ],
   "source": [
    "(allergy_df.groupby(['GENDER_FACTOR','ETHNICITY_FACTOR']).count()['RACE_FACTOR']).plot(kind=\"bar\")"
   ]
  },
  {
   "cell_type": "code",
   "execution_count": 186,
   "id": "9db7c8e0",
   "metadata": {},
   "outputs": [
    {
     "data": {
      "text/plain": [
       "<AxesSubplot: xlabel='GENDER_FACTOR,RACE_FACTOR'>"
      ]
     },
     "execution_count": 186,
     "metadata": {},
     "output_type": "execute_result"
    },
    {
     "data": {
      "image/png": "[encoded data removed]",
      "text/plain": [
       "<Figure size 640x480 with 1 Axes>"
      ]
     },
     "metadata": {},
     "output_type": "display_data"
    }
   ],
   "source": [
    "(allergy_df.groupby(['GENDER_FACTOR','RACE_FACTOR']).count()['ETHNICITY_FACTOR']).plot(kind=\"bar\",color=['blue','blue','blue','blue','blue',\n",
    "                                                                                                         'red','red','red','red','red','red'])"
   ]
  },
  {
   "cell_type": "code",
   "execution_count": 113,
   "id": "6703a26c",
   "metadata": {},
   "outputs": [
    {
     "data": {
      "text/plain": [
       "SUBJECT_ID             30000\n",
       "BIRTH_YEAR             30000\n",
       "GENDER_FACTOR          30000\n",
       "RACE_FACTOR            30000\n",
       "ETHNICITY_FACTOR       30000\n",
       "PAYER_FACTOR           30000\n",
       "ATOPIC_MARCH_COHORT    30000\n",
       "AGE_START_YEARS        30000\n",
       "AGE_END_YEARS          30000\n",
       "SHELLFISH_ALG_START      543\n",
       "SHELLFISH_ALG_END        112\n",
       "dtype: int64"
      ]
     },
     "execution_count": 113,
     "metadata": {},
     "output_type": "execute_result"
    }
   ],
   "source": [
    "shellfish_df=allergy_df[['SUBJECT_ID', 'BIRTH_YEAR', 'GENDER_FACTOR', 'RACE_FACTOR',\n",
    "       'ETHNICITY_FACTOR', 'PAYER_FACTOR', 'ATOPIC_MARCH_COHORT',\n",
    "       'AGE_START_YEARS', 'AGE_END_YEARS', 'SHELLFISH_ALG_START',\n",
    "       'SHELLFISH_ALG_END']].copy()\n",
    "shellfish_df.count()"
   ]
  },
  {
   "cell_type": "code",
   "execution_count": 128,
   "id": "a6d22678",
   "metadata": {},
   "outputs": [],
   "source": [
    "def clean_DataFrame(allergen):\n",
    "    allergen_start_column=allergen.upper()+'_ALG_START'\n",
    "    allergen_end_column=allergen.upper()+'_ALG_END'\n",
    "    \n",
    "    allergen_df=allergy_df[['SUBJECT_ID', 'BIRTH_YEAR', 'GENDER_FACTOR', 'RACE_FACTOR',\n",
    "       'ETHNICITY_FACTOR', 'PAYER_FACTOR', 'ATOPIC_MARCH_COHORT',\n",
    "       'AGE_START_YEARS', 'AGE_END_YEARS', allergen_start_column,\n",
    "       allergen_end_column]].copy()\n",
    "\n",
    "    allergen_df_clean=allergen_df[(allergen_df[allergen_start_column].isna()==False)]\n",
    "    allergen_df_clean.reset_index(inplace=True,drop=True)\n",
    "    value= allergen_df_clean[allergen_df_clean[allergen_end_column].isna()][allergen_start_column]\n",
    "\n",
    "    #for index in value.index:\n",
    "        #allergen_df_clean.iloc[index,10]=value[index]\n",
    "    return allergen_df_clean\n"
   ]
  },
  {
   "cell_type": "code",
   "execution_count": 131,
   "id": "a93be408",
   "metadata": {},
   "outputs": [
    {
     "data": {
      "text/html": [
       "<div>\n",
       "<style scoped>\n",
       "    .dataframe tbody tr th:only-of-type {\n",
       "        vertical-align: middle;\n",
       "    }\n",
       "\n",
       "    .dataframe tbody tr th {\n",
       "        vertical-align: top;\n",
       "    }\n",
       "\n",
       "    .dataframe thead th {\n",
       "        text-align: right;\n",
       "    }\n",
       "</style>\n",
       "<table border=\"1\" class=\"dataframe\">\n",
       "  <thead>\n",
       "    <tr style=\"text-align: right;\">\n",
       "      <th></th>\n",
       "      <th>SUBJECT_ID</th>\n",
       "      <th>BIRTH_YEAR</th>\n",
       "      <th>GENDER_FACTOR</th>\n",
       "      <th>RACE_FACTOR</th>\n",
       "      <th>ETHNICITY_FACTOR</th>\n",
       "      <th>PAYER_FACTOR</th>\n",
       "      <th>ATOPIC_MARCH_COHORT</th>\n",
       "      <th>AGE_START_YEARS</th>\n",
       "      <th>AGE_END_YEARS</th>\n",
       "      <th>SHELLFISH_ALG_START</th>\n",
       "      <th>SHELLFISH_ALG_END</th>\n",
       "    </tr>\n",
       "  </thead>\n",
       "  <tbody>\n",
       "    <tr>\n",
       "      <th>0</th>\n",
       "      <td>78</td>\n",
       "      <td>2005</td>\n",
       "      <td>S0 - Male</td>\n",
       "      <td>R0 - White</td>\n",
       "      <td>E0 - Non-Hispanic</td>\n",
       "      <td>P0 - Non-Medicaid</td>\n",
       "      <td>False</td>\n",
       "      <td>1.357974</td>\n",
       "      <td>8.043806</td>\n",
       "      <td>5.305955</td>\n",
       "      <td>5.305955</td>\n",
       "    </tr>\n",
       "    <tr>\n",
       "      <th>1</th>\n",
       "      <td>110</td>\n",
       "      <td>2006</td>\n",
       "      <td>S1 - Female</td>\n",
       "      <td>R1 - Black</td>\n",
       "      <td>E0 - Non-Hispanic</td>\n",
       "      <td>P1 - Medicaid</td>\n",
       "      <td>True</td>\n",
       "      <td>0.035592</td>\n",
       "      <td>6.956879</td>\n",
       "      <td>1.760438</td>\n",
       "      <td>NaN</td>\n",
       "    </tr>\n",
       "    <tr>\n",
       "      <th>2</th>\n",
       "      <td>246</td>\n",
       "      <td>1995</td>\n",
       "      <td>S1 - Female</td>\n",
       "      <td>R0 - White</td>\n",
       "      <td>E0 - Non-Hispanic</td>\n",
       "      <td>P0 - Non-Medicaid</td>\n",
       "      <td>False</td>\n",
       "      <td>7.014374</td>\n",
       "      <td>18.893908</td>\n",
       "      <td>18.707734</td>\n",
       "      <td>NaN</td>\n",
       "    </tr>\n",
       "    <tr>\n",
       "      <th>3</th>\n",
       "      <td>319</td>\n",
       "      <td>1996</td>\n",
       "      <td>S1 - Female</td>\n",
       "      <td>R0 - White</td>\n",
       "      <td>E0 - Non-Hispanic</td>\n",
       "      <td>P1 - Medicaid</td>\n",
       "      <td>False</td>\n",
       "      <td>4.824093</td>\n",
       "      <td>17.218344</td>\n",
       "      <td>15.321013</td>\n",
       "      <td>NaN</td>\n",
       "    </tr>\n",
       "    <tr>\n",
       "      <th>4</th>\n",
       "      <td>357</td>\n",
       "      <td>1995</td>\n",
       "      <td>S0 - Male</td>\n",
       "      <td>R1 - Black</td>\n",
       "      <td>E1 - Hispanic</td>\n",
       "      <td>P1 - Medicaid</td>\n",
       "      <td>False</td>\n",
       "      <td>8.495551</td>\n",
       "      <td>18.266940</td>\n",
       "      <td>16.941821</td>\n",
       "      <td>NaN</td>\n",
       "    </tr>\n",
       "  </tbody>\n",
       "</table>\n",
       "</div>"
      ],
      "text/plain": [
       "   SUBJECT_ID  BIRTH_YEAR GENDER_FACTOR RACE_FACTOR   ETHNICITY_FACTOR  \\\n",
       "0          78        2005     S0 - Male  R0 - White  E0 - Non-Hispanic   \n",
       "1         110        2006   S1 - Female  R1 - Black  E0 - Non-Hispanic   \n",
       "2         246        1995   S1 - Female  R0 - White  E0 - Non-Hispanic   \n",
       "3         319        1996   S1 - Female  R0 - White  E0 - Non-Hispanic   \n",
       "4         357        1995     S0 - Male  R1 - Black      E1 - Hispanic   \n",
       "\n",
       "        PAYER_FACTOR  ATOPIC_MARCH_COHORT  AGE_START_YEARS  AGE_END_YEARS  \\\n",
       "0  P0 - Non-Medicaid                False         1.357974       8.043806   \n",
       "1      P1 - Medicaid                 True         0.035592       6.956879   \n",
       "2  P0 - Non-Medicaid                False         7.014374      18.893908   \n",
       "3      P1 - Medicaid                False         4.824093      17.218344   \n",
       "4      P1 - Medicaid                False         8.495551      18.266940   \n",
       "\n",
       "   SHELLFISH_ALG_START  SHELLFISH_ALG_END  \n",
       "0             5.305955           5.305955  \n",
       "1             1.760438                NaN  \n",
       "2            18.707734                NaN  \n",
       "3            15.321013                NaN  \n",
       "4            16.941821                NaN  "
      ]
     },
     "execution_count": 131,
     "metadata": {},
     "output_type": "execute_result"
    }
   ],
   "source": [
    "shellfish_df_clean=clean_DataFrame('shellfish')\n",
    "shellfish_df_clean.head()"
   ]
  },
  {
   "cell_type": "code",
   "execution_count": 132,
   "id": "9cdf612b",
   "metadata": {},
   "outputs": [
    {
     "data": {
      "text/plain": [
       "SUBJECT_ID             173\n",
       "BIRTH_YEAR             173\n",
       "GENDER_FACTOR          173\n",
       "RACE_FACTOR            173\n",
       "ETHNICITY_FACTOR       173\n",
       "PAYER_FACTOR           173\n",
       "ATOPIC_MARCH_COHORT    173\n",
       "AGE_START_YEARS        173\n",
       "AGE_END_YEARS          173\n",
       "FISH_ALG_START         173\n",
       "FISH_ALG_END            46\n",
       "dtype: int64"
      ]
     },
     "execution_count": 132,
     "metadata": {},
     "output_type": "execute_result"
    }
   ],
   "source": [
    "fish_df_clean=clean_DataFrame('fish')\n",
    "fish_df_clean.count()"
   ]
  },
  {
   "cell_type": "code",
   "execution_count": 144,
   "id": "3b983c1d",
   "metadata": {},
   "outputs": [
    {
     "name": "stderr",
     "output_type": "stream",
     "text": [
      "C:\\Users\\sara_\\anaconda3\\lib\\site-packages\\pandas\\plotting\\_matplotlib\\core.py:1114: UserWarning: No data for colormapping provided via 'c'. Parameters 'cmap' will be ignored\n",
      "  scatter = ax.scatter(\n"
     ]
    },
    {
     "data": {
      "text/plain": [
       "<AxesSubplot: xlabel='AGE_START_YEARS', ylabel='SHELLFISH_ALG_START'>"
      ]
     },
     "execution_count": 144,
     "metadata": {},
     "output_type": "execute_result"
    },
    {
     "data": {
      "image/png": "[encoded data removed]",
      "text/plain": [
       "<Figure size 640x480 with 1 Axes>"
      ]
     },
     "metadata": {},
     "output_type": "display_data"
    }
   ],
   "source": [
    "df=shellfish_df_clean.groupby('GENDER_FACTOR')\n",
    "shellfish_df_clean.plot(kind=\"scatter\", x=\"AGE_START_YEARS\", y=\"SHELLFISH_ALG_START\", grid=True)"
   ]
  },
  {
   "cell_type": "code",
   "execution_count": 191,
   "id": "975a83e5",
   "metadata": {},
   "outputs": [
    {
     "data": {
      "text/plain": [
       "172"
      ]
     },
     "execution_count": 191,
     "metadata": {},
     "output_type": "execute_result"
    }
   ],
   "source": [
    "shellfish_df_clean[shellfish_df_clean['AGE_START_YEARS']<1][\"SHELLFISH_ALG_START\"].count()"
   ]
  },
  {
   "cell_type": "code",
   "execution_count": 193,
   "id": "1e690e78",
   "metadata": {},
   "outputs": [
    {
     "data": {
      "text/plain": [
       "(SUBJECT_ID             312\n",
       " BIRTH_YEAR             312\n",
       " GENDER_FACTOR          312\n",
       " RACE_FACTOR            312\n",
       " ETHNICITY_FACTOR       312\n",
       " PAYER_FACTOR           312\n",
       " ATOPIC_MARCH_COHORT    312\n",
       " AGE_START_YEARS        312\n",
       " AGE_END_YEARS          312\n",
       " SHELLFISH_ALG_START    312\n",
       " SHELLFISH_ALG_END       53\n",
       " dtype: int64,\n",
       " SUBJECT_ID             231\n",
       " BIRTH_YEAR             231\n",
       " GENDER_FACTOR          231\n",
       " RACE_FACTOR            231\n",
       " ETHNICITY_FACTOR       231\n",
       " PAYER_FACTOR           231\n",
       " ATOPIC_MARCH_COHORT    231\n",
       " AGE_START_YEARS        231\n",
       " AGE_END_YEARS          231\n",
       " SHELLFISH_ALG_START    231\n",
       " SHELLFISH_ALG_END       59\n",
       " dtype: int64)"
      ]
     },
     "execution_count": 193,
     "metadata": {},
     "output_type": "execute_result"
    }
   ],
   "source": [
    "shellfish_df_clean[shellfish_df_clean['BIRTH_YEAR']<2000].count(),shellfish_df_clean[shellfish_df_clean['BIRTH_YEAR']>=2000].count()"
   ]
  },
  {
   "cell_type": "code",
   "execution_count": 152,
   "id": "8dcdd631",
   "metadata": {},
   "outputs": [
    {
     "data": {
      "text/plain": [
       "count    543.000000\n",
       "mean       4.491563\n",
       "std        4.224419\n",
       "min        0.008214\n",
       "25%        0.071184\n",
       "50%        4.035592\n",
       "75%        7.236140\n",
       "max       16.763860\n",
       "Name: AGE_START_YEARS, dtype: float64"
      ]
     },
     "execution_count": 152,
     "metadata": {},
     "output_type": "execute_result"
    }
   ],
   "source": [
    "shellfish_df_clean['AGE_START_YEARS'].describe()"
   ]
  },
  {
   "cell_type": "code",
   "execution_count": 114,
   "id": "caa9cd0e",
   "metadata": {},
   "outputs": [],
   "source": [
    "#shellfish_df_clean=shellfish_df[(shellfish_df['SHELLFISH_ALG_START'].isna()==False)]\n",
    "#shellfish_df_clean.reset_index(inplace=True,drop=True)\n"
   ]
  },
  {
   "cell_type": "code",
   "execution_count": 115,
   "id": "98b87c0c",
   "metadata": {},
   "outputs": [],
   "source": [
    "#value= shellfish_df_clean[shellfish_df_clean['SHELLFISH_ALG_END'].isna()]['SHELLFISH_ALG_START']\n",
    "\n",
    "#for index in value.index:\n",
    " #   shellfish_df_clean.iloc[index,10]=value[index]\n"
   ]
  },
  {
   "cell_type": "code",
   "execution_count": 118,
   "id": "3fbf036c",
   "metadata": {},
   "outputs": [
    {
     "data": {
      "text/plain": [
       "array(['S0 - Male', 'S1 - Female'], dtype=object)"
      ]
     },
     "execution_count": 118,
     "metadata": {},
     "output_type": "execute_result"
    }
   ],
   "source": [
    "shellfish_df_clean['GENDER_FACTOR'].unique()"
   ]
  }
 ],
 "metadata": {
  "kernelspec": {
   "display_name": "PythonData",
   "language": "python",
   "name": "pythondata"
  },
  "language_info": {
   "codemirror_mode": {
    "name": "ipython",
    "version": 3
   },
   "file_extension": ".py",
   "mimetype": "text/x-python",
   "name": "python",
   "nbconvert_exporter": "python",
   "pygments_lexer": "ipython3",
   "version": "3.9.15"
  }
 },
 "nbformat": 4,
 "nbformat_minor": 5
}
